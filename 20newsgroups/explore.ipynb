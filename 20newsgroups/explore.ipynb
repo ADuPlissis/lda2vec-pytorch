{
 "cells": [
  {
   "cell_type": "code",
   "execution_count": 1,
   "metadata": {
    "collapsed": true
   },
   "outputs": [],
   "source": [
    "import numpy as np\n",
    "from sklearn.datasets import fetch_20newsgroups\n",
    "import torch\n",
    "\n",
    "np.set_printoptions(precision=4, suppress=True)"
   ]
  },
  {
   "cell_type": "code",
   "execution_count": 2,
   "metadata": {
    "collapsed": true
   },
   "outputs": [],
   "source": [
    "def softmax(x):\n",
    "    # x has shape [batch_size, n_classes]\n",
    "    e = np.exp(x)\n",
    "    n = np.sum(e, 1, keepdims=True)\n",
    "    return e/n"
   ]
  },
  {
   "cell_type": "markdown",
   "metadata": {},
   "source": [
    "# Load data"
   ]
  },
  {
   "cell_type": "code",
   "execution_count": 3,
   "metadata": {
    "collapsed": true
   },
   "outputs": [],
   "source": [
    "dataset = fetch_20newsgroups(subset='all', remove=('headers', 'footers', 'quotes'))\n",
    "docs = dataset['data']\n",
    "\n",
    "docs = [(i, doc) for i, doc in enumerate(docs)]\n",
    "decoder = np.load('decoder.npy')[()]\n",
    "doc_decoder = np.load('doc_decoder.npy')[()]"
   ]
  },
  {
   "cell_type": "markdown",
   "metadata": {},
   "source": [
    "# Load the trained model"
   ]
  },
  {
   "cell_type": "code",
   "execution_count": 4,
   "metadata": {},
   "outputs": [],
   "source": [
    "state = torch.load('200_tmp_model_state.pytorch', map_location=lambda storage, loc: storage)\n",
    "n_topics = 20\n",
    "\n",
    "doc_vectors = state['doc_weights.weight'].cpu().clone().numpy()\n",
    "topic_vectors = state['topics.topic_vectors'].cpu().clone().numpy()\n",
    "resulted_word_vectors = state['neg.embedding.weight'].cpu().clone().numpy()\n",
    "topic_dist = softmax(doc_vectors)"
   ]
  },
  {
   "cell_type": "markdown",
   "metadata": {},
   "source": [
    "# Show a document and its topics"
   ]
  },
  {
   "cell_type": "code",
   "execution_count": 20,
   "metadata": {
    "scrolled": false
   },
   "outputs": [
    {
     "name": "stdout",
     "output_type": "stream",
     "text": [
      "I don't have nor Imagine nor Real 3d, but as old\n",
      "Amiga user I think you should take a look also to \n",
      "Real 3d 2.0 for the Amiga. I saw Imagine 2.0 on the\n",
      "Amiga for a long time at my friend's home, and\n",
      "I've seen R3D 2.0 in action at Bit.Movie 93 in Riccione,\n",
      "Italy (an Italian Computer Graphics Contest).\n",
      "Many professionals using 3d Studio on PC, SoftImage\n",
      "for Silicon Graphics and Imagine on the Amiga were \n",
      "*VERY IMPRESSED* by the power of this programs.\n",
      "Sorry, I've lost the posting with full description \n",
      "of features of this great program.\n",
      "\n",
      "For more informations give a look in comp.sys.amiga.graphics.\n",
      "\n",
      "Representative of Activa International told me that\n",
      "it will be out in 2 weeks for the Amiga and that\n",
      "PC MS-Windows, Silicon Indigo and Unix version are \n",
      "under development.\n",
      "\n",
      "Ciao,\n",
      "\tSergio\n",
      "\n",
      "\n",
      "\n",
      " \n",
      "\n",
      "0:0.000  1:0.000  2:0.000  3:0.000  4:0.005  5:0.000  6:0.133  7:0.066  8:0.000  9:0.000  \n",
      "10:0.000  11:0.000  12:0.000  13:0.000  14:0.000  15:0.000  16:0.795  17:0.000  18:0.000  19:0.000  \n"
     ]
    }
   ],
   "source": [
    "i = 16  # document id\n",
    "print([doc for j, doc in docs if j == doc_decoder[i]][0], '\\n')\n",
    "s = ''\n",
    "for j, p in enumerate(topic_dist[i]):\n",
    "    s += '{0}:{1:.3f}  '.format(j, p)\n",
    "    if j == 9:\n",
    "        s += '\\n'\n",
    "print(s)"
   ]
  },
  {
   "cell_type": "markdown",
   "metadata": {},
   "source": [
    "# Show topics"
   ]
  },
  {
   "cell_type": "code",
   "execution_count": 14,
   "metadata": {
    "collapsed": true
   },
   "outputs": [],
   "source": [
    "import matplotlib.pyplot as plt\n",
    "%matplotlib inline"
   ]
  },
  {
   "cell_type": "code",
   "execution_count": 6,
   "metadata": {
    "collapsed": true
   },
   "outputs": [],
   "source": [
    "d = np.matmul(topic_dist, topic_vectors)"
   ]
  },
  {
   "cell_type": "code",
   "execution_count": 17,
   "metadata": {},
   "outputs": [],
   "source": [
    "b = np.matmul(resulted_word_vectors, resulted_word_vectors.T)"
   ]
  },
  {
   "cell_type": "code",
   "execution_count": 7,
   "metadata": {},
   "outputs": [],
   "source": [
    "similarity = np.matmul(d, resulted_word_vectors.T)\n",
    "most = similarity.argsort(axis=1)[:, -25:]"
   ]
  },
  {
   "cell_type": "code",
   "execution_count": 18,
   "metadata": {},
   "outputs": [
    {
     "data": {
      "image/png": "[encoded data removed]",
      "text/plain": [
       "<matplotlib.figure.Figure at 0x7fdf02e40e80>"
      ]
     },
     "metadata": {},
     "output_type": "display_data"
    }
   ],
   "source": [
    "plt.hist(b.reshape(-1), bins=20);"
   ]
  },
  {
   "cell_type": "code",
   "execution_count": 16,
   "metadata": {},
   "outputs": [
    {
     "data": {
      "image/png": "[encoded data removed]",
      "text/plain": [
       "<matplotlib.figure.Figure at 0x7fdf031411d0>"
      ]
     },
     "metadata": {},
     "output_type": "display_data"
    }
   ],
   "source": [
    "plt.hist(similarity.reshape(-1), bins=20);"
   ]
  },
  {
   "cell_type": "code",
   "execution_count": null,
   "metadata": {
    "collapsed": true
   },
   "outputs": [],
   "source": [
    "similarity = np.matmul(topic_vectors, resulted_word_vectors.T)\n",
    "most = similarity.argsort(axis=1)[:, -25:]"
   ]
  },
  {
   "cell_type": "code",
   "execution_count": 8,
   "metadata": {},
   "outputs": [
    {
     "name": "stdout",
     "output_type": "stream",
     "text": [
      "topic 0 : second example report little old far control hear make able real long sure end lot king ne place consider true note expect world mention low \n",
      "\n",
      "topic 1 : second report place far long sure allow source example leave great real little control idea able world hear old ne course small make space open \n",
      "\n",
      "topic 2 : source provide allow datum current level second space long subject example user tool entry receive ne window place senior general code software text national package \n",
      "\n",
      "topic 3 : place source example able second leave make long datum allow software real report old little lot world course sound expect live note design lead rate \n",
      "\n",
      "topic 4 : place long far second different able example idea make source great little note lot matter consider world expect sure allow old general space report course \n",
      "\n",
      "topic 5 : second source sure report place open real long great allow far note example test little idea able hear control ne make old world leave provide \n",
      "\n",
      "topic 6 : second leave place example long great space allow far control report open old able source consider ne make show real hear note gun large hold \n",
      "\n",
      "topic 7 : second report little far example old real sure place make long able hear source control great lot allow world end test note true leave ne \n",
      "\n",
      "topic 8 : second little great far real long make allow test world sound lot reason able bit different old course source turn low large sure idea example \n",
      "\n",
      "topic 9 : place world example second little able sure real idea test far different allow small old exist consider expect long great rule large non type current \n",
      "\n",
      "topic 10 : second source allow provide space datum long example place great ne current level report receive subject able open lot add general window user sure tool \n",
      "\n",
      "topic 11 : second old example place sure long able little ne different test leave far allow make real source true lot great hear idea yes note general \n",
      "\n",
      "topic 12 : report second source sure place far real open hear leave idea control long little allow great test gun old small course note non make car \n",
      "\n",
      "topic 13 : place source able leave second example old long make little real datum software allow report lot sound course expect live world lead happen hard design \n",
      "\n",
      "topic 14 : place source leave able old example second allow report make software datum real long little live sound lead lot course happen world expect design person \n",
      "\n",
      "topic 15 : place long example second old leave allow far source able little ne make different sure general person large user control turn open real lot idea \n",
      "\n",
      "topic 16 : second able current place subject wiring old note book ground space test little small long source large low ne expect open different great idea control \n",
      "\n",
      "topic 17 : second far long source sure little allow real great able make place example old lot course idea different test turn note report ne large small \n",
      "\n",
      "topic 18 : second test different little example sure old sound ne far able lot long make real true talk course hear answer great idea expect consider week \n",
      "\n",
      "topic 19 : second old long place example allow source able leave ne control general person sure little turn hard real idea carry far make disk order hear \n",
      "\n"
     ]
    }
   ],
   "source": [
    "for j in range(n_topics):\n",
    "    topic_words = ' '.join([decoder[i] for i in reversed(most[j])])\n",
    "    print('topic', j, ':', topic_words, '\\n')"
   ]
  },
  {
   "cell_type": "code",
   "execution_count": null,
   "metadata": {},
   "outputs": [],
   "source": [
    "np.sort(similarity, 1)[:, -5:]"
   ]
  },
  {
   "cell_type": "code",
   "execution_count": null,
   "metadata": {},
   "outputs": [],
   "source": [
    "np.sort(similarity, 1)[:, :5]"
   ]
  },
  {
   "cell_type": "code",
   "execution_count": null,
   "metadata": {
    "collapsed": true
   },
   "outputs": [],
   "source": []
  }
 ],
 "metadata": {
  "kernelspec": {
   "display_name": "Python 3",
   "language": "python",
   "name": "python3"
  },
  "language_info": {
   "codemirror_mode": {
    "name": "ipython",
    "version": 3
   },
   "file_extension": ".py",
   "mimetype": "text/x-python",
   "name": "python",
   "nbconvert_exporter": "python",
   "pygments_lexer": "ipython3",
   "version": "3.6.2"
  }
 },
 "nbformat": 4,
 "nbformat_minor": 2
}
