{
 "cells": [
  {
   "cell_type": "code",
   "execution_count": null,
   "metadata": {
    "collapsed": true
   },
   "outputs": [],
   "source": [
    "import numpy as np\n",
    "from sklearn.datasets import fetch_20newsgroups\n",
    "import torch\n",
    "\n",
    "np.set_printoptions(precision=4, suppress=True)"
   ]
  },
  {
   "cell_type": "code",
   "execution_count": null,
   "metadata": {
    "collapsed": true
   },
   "outputs": [],
   "source": [
    "def softmax(x):\n",
    "    # x has shape [batch_size, n_classes]\n",
    "    e = np.exp(x)\n",
    "    n = np.sum(e, 1, keepdims=True)\n",
    "    return e/n"
   ]
  },
  {
   "cell_type": "markdown",
   "metadata": {},
   "source": [
    "# Load data"
   ]
  },
  {
   "cell_type": "code",
   "execution_count": null,
   "metadata": {
    "collapsed": true
   },
   "outputs": [],
   "source": [
    "dataset = fetch_20newsgroups(subset='all', remove=('headers', 'footers', 'quotes'))\n",
    "docs = dataset['data']\n",
    "\n",
    "docs = [(i, doc) for i, doc in enumerate(docs)]\n",
    "decoder = np.load('decoder.npy')[()]\n",
    "doc_decoder = np.load('doc_decoder.npy')[()]"
   ]
  },
  {
   "cell_type": "markdown",
   "metadata": {},
   "source": [
    "# Load the trained model"
   ]
  },
  {
   "cell_type": "code",
   "execution_count": null,
   "metadata": {},
   "outputs": [],
   "source": [
    "state = torch.load('200_tmp_model_state.pytorch')\n",
    "n_topics = 20\n",
    "\n",
    "doc_vectors = state['doc_weights.weight'].cpu().clone().numpy()\n",
    "topic_vectors = state['topics.topic_vectors'].cpu().clone().numpy()\n",
    "resulted_word_vectors = state['neg.embedding.weight'].cpu().clone().numpy()\n",
    "topic_dist = softmax(doc_vectors)"
   ]
  },
  {
   "cell_type": "markdown",
   "metadata": {},
   "source": [
    "# Show a document and its topics"
   ]
  },
  {
   "cell_type": "code",
   "execution_count": null,
   "metadata": {
    "scrolled": false
   },
   "outputs": [],
   "source": [
    "i = 10  # document id\n",
    "print([doc for j, doc in docs if j == doc_decoder[i]][0], '\\n')\n",
    "s = ''\n",
    "for j, p in enumerate(topic_dist[i]):\n",
    "    s += '{0}:{1:.3f}  '.format(j, p)\n",
    "    if j == 9:\n",
    "        s += '\\n'\n",
    "print(s)"
   ]
  },
  {
   "cell_type": "markdown",
   "metadata": {},
   "source": [
    "# Show topics"
   ]
  },
  {
   "cell_type": "code",
   "execution_count": null,
   "metadata": {
    "collapsed": true
   },
   "outputs": [],
   "source": [
    "similarity = np.matmul(topic_vectors, resulted_word_vectors.T)\n",
    "most = similarity.argsort(axis=1)[:, -15:]"
   ]
  },
  {
   "cell_type": "code",
   "execution_count": null,
   "metadata": {},
   "outputs": [],
   "source": [
    "for j in range(n_topics):\n",
    "    topic_words = ' '.join([decoder[i] for i in reversed(most[j])])\n",
    "    print('topic', j, ':', topic_words)"
   ]
  },
  {
   "cell_type": "code",
   "execution_count": null,
   "metadata": {},
   "outputs": [],
   "source": [
    "np.sort(similarity, 1)[:, -5:]"
   ]
  },
  {
   "cell_type": "code",
   "execution_count": null,
   "metadata": {},
   "outputs": [],
   "source": [
    "np.sort(similarity, 1)[:, :5]"
   ]
  }
 ],
 "metadata": {
  "kernelspec": {
   "display_name": "Python 3",
   "language": "python",
   "name": "python3"
  },
  "language_info": {
   "codemirror_mode": {
    "name": "ipython",
    "version": 3
   },
   "file_extension": ".py",
   "mimetype": "text/x-python",
   "name": "python",
   "nbconvert_exporter": "python",
   "pygments_lexer": "ipython3",
   "version": "3.6.1"
  }
 },
 "nbformat": 4,
 "nbformat_minor": 2
}
