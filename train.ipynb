{
 "cells": [
  {
   "cell_type": "code",
   "execution_count": null,
   "metadata": {
    "collapsed": true
   },
   "outputs": [],
   "source": [
    "%load_ext autoreload\n",
    "%autoreload 2"
   ]
  },
  {
   "cell_type": "code",
   "execution_count": null,
   "metadata": {
    "collapsed": true
   },
   "outputs": [],
   "source": [
    "import numpy as np\n",
    "\n",
    "import torch\n",
    "from torch.autograd import Variable\n",
    "import torch.nn as nn\n",
    "import torch.optim as optim\n",
    "import torch.nn.functional as F\n",
    "import math\n",
    "from tqdm import tqdm\n",
    "\n",
    "from utils import negative_sampling_loss, topic_embedding"
   ]
  },
  {
   "cell_type": "markdown",
   "metadata": {},
   "source": [
    "# Load data"
   ]
  },
  {
   "cell_type": "code",
   "execution_count": null,
   "metadata": {},
   "outputs": [],
   "source": [
    "data = np.load('data.npy')\n",
    "unigram_distribution = np.load('unigram_distribution.npy')[()]\n",
    "word_vectors = np.load('word_vectors.npy')"
   ]
  },
  {
   "cell_type": "code",
   "execution_count": null,
   "metadata": {},
   "outputs": [],
   "source": [
    "# number of documents\n",
    "len(np.unique(data[:, 0]))"
   ]
  },
  {
   "cell_type": "code",
   "execution_count": null,
   "metadata": {},
   "outputs": [],
   "source": [
    "# number of unique words\n",
    "len(unigram_distribution)"
   ]
  },
  {
   "cell_type": "code",
   "execution_count": null,
   "metadata": {},
   "outputs": [],
   "source": [
    "# embedding for each word\n",
    "word_vectors.shape"
   ]
  },
  {
   "cell_type": "markdown",
   "metadata": {},
   "source": [
    "# Create iterator"
   ]
  },
  {
   "cell_type": "code",
   "execution_count": null,
   "metadata": {
    "collapsed": true
   },
   "outputs": [],
   "source": [
    "from torch.utils.data.dataset import Dataset\n",
    "from torch.utils.data import DataLoader\n",
    "\n",
    "class SimpleDataset(Dataset):\n",
    "\n",
    "    def __init__(self, data_tensor):\n",
    "        self.data_tensor = data_tensor\n",
    "\n",
    "    def __getitem__(self, index):\n",
    "        return self.data_tensor[index]\n",
    "\n",
    "    def __len__(self):\n",
    "        return self.data_tensor.size(0)"
   ]
  },
  {
   "cell_type": "code",
   "execution_count": null,
   "metadata": {
    "collapsed": true
   },
   "outputs": [],
   "source": [
    "batch_size = 1536"
   ]
  },
  {
   "cell_type": "code",
   "execution_count": null,
   "metadata": {},
   "outputs": [],
   "source": [
    "dataset = SimpleDataset(torch.LongTensor(data))\n",
    "\n",
    "iterator = DataLoader(\n",
    "    dataset, batch_size=batch_size, num_workers=4,\n",
    "    shuffle=True, pin_memory=True, drop_last=True\n",
    ")\n",
    "\n",
    "# number of training samples\n",
    "data_size = len(data)\n",
    "data_size"
   ]
  },
  {
   "cell_type": "markdown",
   "metadata": {},
   "source": [
    "# Model"
   ]
  },
  {
   "cell_type": "code",
   "execution_count": null,
   "metadata": {
    "collapsed": true
   },
   "outputs": [],
   "source": [
    "# params\n",
    "n_topics = 20\n",
    "embedding_dim = 300\n",
    "vocab_size = 19117\n",
    "window_size = 10\n",
    "n_documents = 15868\n",
    "num_sampled = 10\n",
    "beta = 3.0/4.0"
   ]
  },
  {
   "cell_type": "code",
   "execution_count": null,
   "metadata": {
    "collapsed": true
   },
   "outputs": [],
   "source": [
    "word_vectors = torch.FloatTensor(word_vectors)\n",
    "unigram_distribution = torch.FloatTensor(unigram_distribution**beta)"
   ]
  },
  {
   "cell_type": "code",
   "execution_count": null,
   "metadata": {
    "collapsed": true
   },
   "outputs": [],
   "source": [
    "class loss(nn.Module):\n",
    "\n",
    "    def __init__(self, topics, word_vectors, unigram_distribution, \n",
    "                 n_documents, n_topics, num_sampled):\n",
    "        super(loss, self).__init__()\n",
    "\n",
    "        self.doc_embedding = nn.Embedding(n_documents, n_topics)\n",
    "        self.doc_embedding.weight = nn.Parameter(2.0*torch.rand(n_documents, n_topics) - 1.0)\n",
    "        \n",
    "        self.neg = negative_sampling_loss(word_vectors, unigram_distribution, num_sampled)\n",
    "        self.topics = topics\n",
    "\n",
    "    def forward(self, doc_indices, pivot_words, target_words):\n",
    "        \n",
    "        alpha = 1.0/n_topics\n",
    "        lambda_const = 200\n",
    "        \n",
    "        doc_weights = self.doc_embedding(doc_indices)\n",
    "        doc_vectors = self.topics(doc_weights)\n",
    "        \n",
    "        neg_loss = self.neg(pivot_words, target_words, doc_vectors)\n",
    "        dirichlet_loss = lambda_const*(1.0 - alpha)*F.log_softmax(doc_weights).sum(0).mean()\n",
    "\n",
    "        return neg_loss, dirichlet_loss"
   ]
  },
  {
   "cell_type": "code",
   "execution_count": null,
   "metadata": {},
   "outputs": [],
   "source": [
    "topics = topic_embedding(n_topics, embedding_dim)\n",
    "\n",
    "model = loss(\n",
    "    topics, word_vectors, unigram_distribution, \n",
    "    n_documents, n_topics, num_sampled\n",
    ")"
   ]
  },
  {
   "cell_type": "code",
   "execution_count": null,
   "metadata": {
    "collapsed": true
   },
   "outputs": [],
   "source": [
    "model.cuda();"
   ]
  },
  {
   "cell_type": "code",
   "execution_count": null,
   "metadata": {
    "collapsed": true
   },
   "outputs": [],
   "source": [
    "optimizer = optim.Adam(model.parameters(), lr=1e-2)"
   ]
  },
  {
   "cell_type": "code",
   "execution_count": null,
   "metadata": {
    "collapsed": true
   },
   "outputs": [],
   "source": [
    "n_epochs = 10"
   ]
  },
  {
   "cell_type": "code",
   "execution_count": null,
   "metadata": {},
   "outputs": [],
   "source": [
    "n_batches = math.ceil(data_size/batch_size)\n",
    "n_batches"
   ]
  },
  {
   "cell_type": "code",
   "execution_count": null,
   "metadata": {
    "scrolled": true
   },
   "outputs": [],
   "source": [
    "model.train()\n",
    "for epoch in range(0, n_epochs):\n",
    "    for step, batch in tqdm(enumerate(iterator, 1 + epoch*n_batches)):\n",
    "\n",
    "        batch = Variable(batch.cuda())\n",
    "        doc_indices = batch[:, 0]\n",
    "        pivot_words = batch[:, 1]\n",
    "        target_words = batch[:, 2:]\n",
    "\n",
    "        neg_loss, dirichlet_loss = model(doc_indices, pivot_words, target_words)\n",
    "        total_loss = neg_loss + dirichlet_loss\n",
    "\n",
    "        optimizer.zero_grad()\n",
    "        total_loss.backward()\n",
    "        optimizer.step()\n",
    "        \n",
    "    \n",
    "    print('{0:.2f} {1:.2f} {2:.2f}'.format(\n",
    "        total_loss.data[0], neg_loss.data[0], dirichlet_loss.data[0]\n",
    "    ))"
   ]
  }
 ],
 "metadata": {
  "kernelspec": {
   "display_name": "Python 3",
   "language": "python",
   "name": "python3"
  },
  "language_info": {
   "codemirror_mode": {
    "name": "ipython",
    "version": 3
   },
   "file_extension": ".py",
   "mimetype": "text/x-python",
   "name": "python",
   "nbconvert_exporter": "python",
   "pygments_lexer": "ipython3",
   "version": "3.6.1"
  }
 },
 "nbformat": 4,
 "nbformat_minor": 2
}
