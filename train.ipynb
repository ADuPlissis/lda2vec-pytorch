{
 "cells": [
  {
   "cell_type": "code",
   "execution_count": null,
   "metadata": {
    "collapsed": true
   },
   "outputs": [],
   "source": [
    "%load_ext autoreload\n",
    "%autoreload 2"
   ]
  },
  {
   "cell_type": "code",
   "execution_count": null,
   "metadata": {
    "collapsed": true
   },
   "outputs": [],
   "source": [
    "import numpy as np\n",
    "import torch\n",
    "from torch.autograd import Variable\n",
    "import torch.nn as nn\n",
    "import torch.optim as optim\n",
    "import torch.nn.functional as F\n",
    "import math\n",
    "import time\n",
    "from sklearn.metrics.pairwise import cosine_similarity\n",
    "\n",
    "from utils import negative_sampling_loss, topic_embedding"
   ]
  },
  {
   "cell_type": "markdown",
   "metadata": {},
   "source": [
    "# Load data"
   ]
  },
  {
   "cell_type": "code",
   "execution_count": null,
   "metadata": {
    "collapsed": true
   },
   "outputs": [],
   "source": [
    "data = np.load('data.npy')\n",
    "unigram_distribution = np.load('unigram_distribution.npy')[()]\n",
    "word_vectors = np.load('word_vectors.npy')\n",
    "decoder = np.load('decoder.npy')[()]"
   ]
  },
  {
   "cell_type": "code",
   "execution_count": null,
   "metadata": {
    "collapsed": true
   },
   "outputs": [],
   "source": [
    "word_vectors = torch.FloatTensor(word_vectors)\n",
    "\n",
    "beta = 3.0/4.0\n",
    "unigram_distribution = torch.FloatTensor(unigram_distribution**beta)\n",
    "unigram_distribution /= unigram_distribution.sum()"
   ]
  },
  {
   "cell_type": "markdown",
   "metadata": {},
   "source": [
    "# Create iterator"
   ]
  },
  {
   "cell_type": "code",
   "execution_count": null,
   "metadata": {
    "collapsed": true
   },
   "outputs": [],
   "source": [
    "from torch.utils.data.dataset import Dataset\n",
    "from torch.utils.data import DataLoader\n",
    "\n",
    "class SimpleDataset(Dataset):\n",
    "\n",
    "    def __init__(self, data_tensor):\n",
    "        self.data_tensor = data_tensor\n",
    "\n",
    "    def __getitem__(self, index):\n",
    "        return self.data_tensor[index]\n",
    "\n",
    "    def __len__(self):\n",
    "        return self.data_tensor.size(0)"
   ]
  },
  {
   "cell_type": "code",
   "execution_count": null,
   "metadata": {
    "collapsed": true
   },
   "outputs": [],
   "source": [
    "batch_size = 4096"
   ]
  },
  {
   "cell_type": "code",
   "execution_count": null,
   "metadata": {},
   "outputs": [],
   "source": [
    "dataset = SimpleDataset(torch.LongTensor(data))\n",
    "\n",
    "iterator = DataLoader(\n",
    "    dataset, batch_size=batch_size, num_workers=4,\n",
    "    shuffle=True, pin_memory=True, drop_last=True\n",
    ")\n",
    "\n",
    "# number of training samples\n",
    "data_size = len(data)\n",
    "data_size"
   ]
  },
  {
   "cell_type": "markdown",
   "metadata": {},
   "source": [
    "# Model"
   ]
  },
  {
   "cell_type": "code",
   "execution_count": null,
   "metadata": {
    "collapsed": true
   },
   "outputs": [],
   "source": [
    "# params\n",
    "n_topics = 20\n",
    "embedding_dim = word_vectors.shape[1]\n",
    "vocab_size = len(unigram_distribution)\n",
    "window_size = 10\n",
    "n_documents = len(np.unique(data[:, 0]))\n",
    "num_sampled = 15"
   ]
  },
  {
   "cell_type": "code",
   "execution_count": null,
   "metadata": {
    "collapsed": true
   },
   "outputs": [],
   "source": [
    "class loss(nn.Module):\n",
    "    \"\"\"The main thing to be minimized\"\"\"\n",
    "\n",
    "    def __init__(self, topics, word_vectors, unigram_distribution, \n",
    "                 n_documents, n_topics, num_sampled):\n",
    "        super(loss, self).__init__()\n",
    "        \n",
    "        # document distributions over the topics \n",
    "        self.doc_weights = nn.Embedding(n_documents, n_topics)\n",
    "        self.doc_weights.weight = nn.Parameter(2.0*torch.rand(n_documents, n_topics) - 1.0)\n",
    "        \n",
    "        self.neg = negative_sampling_loss(word_vectors, unigram_distribution, num_sampled)\n",
    "        self.topics = topics\n",
    "\n",
    "    def forward(self, doc_indices, pivot_words, target_words):\n",
    "        \n",
    "        alpha = 1.0/n_topics\n",
    "        lambda_const = 200\n",
    "        \n",
    "        # shape: [batch_size, n_topics]\n",
    "        doc_weights = self.doc_weights(doc_indices)\n",
    "        \n",
    "        # shape: [batch_size, embedding_dim]\n",
    "        doc_vectors = self.topics(doc_weights)\n",
    "        \n",
    "        neg_loss = self.neg(pivot_words, target_words, doc_vectors)\n",
    "        dirichlet_loss = lambda_const*(1.0 - alpha)*F.log_softmax(doc_weights).sum(1).mean()\n",
    "\n",
    "        return neg_loss, dirichlet_loss"
   ]
  },
  {
   "cell_type": "code",
   "execution_count": null,
   "metadata": {
    "collapsed": true
   },
   "outputs": [],
   "source": [
    "topics = topic_embedding(n_topics, embedding_dim)\n",
    "\n",
    "model = loss(\n",
    "    topics, word_vectors, unigram_distribution, \n",
    "    n_documents, n_topics, num_sampled\n",
    ")\n",
    "model.cuda();"
   ]
  },
  {
   "cell_type": "code",
   "execution_count": null,
   "metadata": {},
   "outputs": [],
   "source": [
    "params = [\n",
    "    {'params': [model.doc_weights.weight], 'lr': 1e-3},\n",
    "    {'params': [model.topics.topic_vectors], 'lr': 1e-2},\n",
    "    {'params': [model.neg.embedding.weight], 'lr': 1e-1}\n",
    "]\n",
    "optimizer = optim.SGD(params, momentum=0.9, nesterov=True)\n",
    "\n",
    "n_epochs = 120\n",
    "n_batches = math.floor(data_size/batch_size)\n",
    "n_batches"
   ]
  },
  {
   "cell_type": "code",
   "execution_count": null,
   "metadata": {
    "scrolled": true
   },
   "outputs": [],
   "source": [
    "%%time\n",
    "model.train()\n",
    "start = time.time()\n",
    "for epoch in range(1, n_epochs + 1):\n",
    "    for batch in iterator:\n",
    "\n",
    "        batch = Variable(batch.cuda())\n",
    "        doc_indices = batch[:, 0]\n",
    "        pivot_words = batch[:, 1]\n",
    "        target_words = batch[:, 2:]\n",
    "\n",
    "        neg_loss, dirichlet_loss = model(doc_indices, pivot_words, target_words)\n",
    "        total_loss = neg_loss + dirichlet_loss\n",
    "\n",
    "        optimizer.zero_grad()\n",
    "        total_loss.backward()\n",
    "        \n",
    "        # gradient clipping\n",
    "        for p in model.parameters():\n",
    "            p.grad = p.grad.clamp(min=-5.0, max=5.0)\n",
    "\n",
    "        optimizer.step()\n",
    "    \n",
    "    print('{0} {1:.2f} {2:.2f} {3:.2f}'.format(\n",
    "        epoch, neg_loss.data[0], dirichlet_loss.data[0], time.time() - start\n",
    "    ))\n",
    "    start = time.time()"
   ]
  },
  {
   "cell_type": "code",
   "execution_count": null,
   "metadata": {},
   "outputs": [],
   "source": [
    "torch.save(model.state_dict(), 'model_state.pytorch')"
   ]
  },
  {
   "cell_type": "markdown",
   "metadata": {},
   "source": [
    "# Results"
   ]
  },
  {
   "cell_type": "code",
   "execution_count": null,
   "metadata": {
    "collapsed": true
   },
   "outputs": [],
   "source": [
    "doc_vectors = model.doc_weights.weight.data.cpu().clone().numpy()\n",
    "topic_vectors = model.topics.topic_vectors.data.cpu().clone().numpy()\n",
    "resulted_word_vectors = model.neg.embedding.weight.data.cpu().clone().numpy()"
   ]
  },
  {
   "cell_type": "code",
   "execution_count": null,
   "metadata": {
    "collapsed": true
   },
   "outputs": [],
   "source": [
    "similarity = cosine_similarity(topic_vectors, resulted_word_vectors)\n",
    "most = similarity.argsort(axis=1)[:, -6:]"
   ]
  },
  {
   "cell_type": "code",
   "execution_count": null,
   "metadata": {},
   "outputs": [],
   "source": [
    "for j in range(n_topics):\n",
    "    print([decoder[i] for i in most[j]])"
   ]
  },
  {
   "cell_type": "code",
   "execution_count": null,
   "metadata": {},
   "outputs": [],
   "source": [
    "np.sort(similarity, 1)[:, -5:]"
   ]
  },
  {
   "cell_type": "code",
   "execution_count": null,
   "metadata": {},
   "outputs": [],
   "source": [
    "np.sort(similarity, 1)[:, :5]"
   ]
  }
 ],
 "metadata": {
  "kernelspec": {
   "display_name": "Python 3",
   "language": "python",
   "name": "python3"
  },
  "language_info": {
   "codemirror_mode": {
    "name": "ipython",
    "version": 3
   },
   "file_extension": ".py",
   "mimetype": "text/x-python",
   "name": "python",
   "nbconvert_exporter": "python",
   "pygments_lexer": "ipython3",
   "version": "3.6.1"
  }
 },
 "nbformat": 4,
 "nbformat_minor": 2
}
